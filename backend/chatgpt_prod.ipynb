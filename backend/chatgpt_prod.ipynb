{
 "cells": [
  {
   "cell_type": "code",
   "execution_count": null,
   "id": "2319bd74-78d7-4ef7-8f36-dcdbba7924d8",
   "metadata": {},
   "outputs": [],
   "source": [
    "import pandas as pd\n",
    "\n",
    "df_1 = pd.read_csv('cons_trans_translate.csv',delimiter='\\t')\n",
    "df_1 = df_1.fillna('')\n",
    "\n",
    "df_1_answer = df_1.loc[df_1['reponse2'] != '']\n",
    "df_1_answer['answer'] = df_1_answer['reponse2'] + ' |receiver_place: ' + df_1_answer['reciever_place'] +  ' |time_process: ' +  df_1_answer['time_processing'] + ' |cost: ' + df_1_answer['cost'] + ' |link: ' + df_1_answer['link']\n",
    "df_1_answer = df_1_answer[['idx','answer']]\n",
    "df_1_question = df_1[['idx','procs']]\n",
    "\n",
    "df_1_final = df_1_question.merge(df_1_answer, on='idx', how='left')\n",
    "df_1_final = df_1_final.fillna('')\n",
    "df_1_final = df_1_final.loc[df_1_final['idx'] != '']\n",
    "\n",
    "df_1_final.columns = ['idx','question','answer']\n",
    "df_1_final.to_csv('cons_trans_model.csv')\n",
    "df_1_final['messages'] = df_1_final.apply(lambda x:  [{'role': 'system','content':'cons_trans'},{'role': 'user', 'content' : x['question']}, {'role':'assistant', 'content':x['answer']}], axis = 1)\n",
    "df_1_json = df_1_final[['messages']]\n",
    "df_1_json.to_json('cons_trans_model.jsonl',orient='records',lines=True)"
   ]
  },
  {
   "cell_type": "code",
   "execution_count": null,
   "id": "c5608c96-3c60-4dbb-8c8d-e179c5b0a948",
   "metadata": {},
   "outputs": [],
   "source": [
    "df_2 = pd.read_csv('eco_trad_translate.csv',delimiter='\\t')\n",
    "df_2 = df_2.fillna('')\n",
    "# print(df_2)\n",
    "df_2_answer = df_2.loc[df_2['reponse2'] != '']\n",
    "# print(df_2_answer)\n",
    "df_2_answer['answer'] = df_2_answer['reponse2'] + ' |receiver_place: ' + df_2_answer['reciever_place'] +  ' |time_process: ' +  df_2_answer['time_processing'] + ' |cost: ' + df_2_answer['cost'] + ' |link: ' + df_2_answer['link']\n",
    "df_2_answer = df_2_answer[['idx','answer']]\n",
    "# print(df_2_answer)\n",
    "\n",
    "df_2_question = df_2[['idx','procs']]\n",
    "\n",
    "df_2_final = df_2_question.merge(df_2_answer, on='idx', how='left')\n",
    "df_2_final = df_2_final.fillna('')\n",
    "df_2_final = df_2_final.loc[df_2_final['idx'] != '']\n",
    "\n",
    "df_2_final.columns = ['idx','question','answer']\n",
    "df_2_final.to_csv('eco_trad_model.csv')\n",
    "\n",
    "df_2_final['messages'] = df_2_final.apply(lambda x:  [{'role': 'system','content':'cons_trans'},{'role': 'user', 'content' : x['question']}, {'role':'assistant', 'content':x['answer']}], axis = 1)\n",
    "# print(df_1_final)\n",
    "df_2_json = df_2_final[['messages']]\n",
    "df_2_json.to_json('eco_trad_model.jsonl',orient='records',lines=True)"
   ]
  },
  {
   "cell_type": "code",
   "execution_count": null,
   "id": "95526bfb-b280-480c-806a-453a21deb71d",
   "metadata": {},
   "outputs": [],
   "source": [
    "df_3 = pd.read_csv('res_env_translate.csv',delimiter='\\t')\n",
    "df_3 = df_3.fillna('')\n",
    "# print(df_3)\n",
    "df_3_answer = df_3.loc[df_3['reponse2'] != '']\n",
    "# print(df_3_answer)\n",
    "df_3_answer['answer'] = df_3_answer['reponse2'] + ' |receiver_place: ' + df_3_answer['reciever_place'] +  ' |time_process: ' +  df_3_answer['time_processing'] + ' |cost: ' + df_3_answer['cost'] + ' |link: ' + df_3_answer['link']\n",
    "df_3_answer = df_3_answer[['idx','answer']]\n",
    "# print(df_3_answer)\n",
    "\n",
    "df_3_question = df_3[['idx','procs']]\n",
    "\n",
    "df_3_final = df_3_question.merge(df_3_answer, on='idx', how='left')\n",
    "df_3_final = df_3_final.fillna('')\n",
    "df_3_final = df_3_final.loc[df_3_final['idx'] != '']\n",
    "\n",
    "df_3_final.columns = ['idx','question','answer']\n",
    "df_3_final.to_csv('res_env_model.csv')\n",
    "\n",
    "df_3_final['messages'] = df_3_final.apply(lambda x:  [{'role': 'system','content':'cons_trans'},{'role': 'user', 'content' : x['question']}, {'role':'assistant', 'content':x['answer']}], axis = 1)\n",
    "# print(df_1_final)\n",
    "df_3_json = df_3_final[['messages']]\n",
    "df_3_json.to_json('res_env_model.jsonl',orient='records',lines=True)"
   ]
  },
  {
   "cell_type": "code",
   "execution_count": null,
   "id": "58bb2a44-c906-4ba0-a1db-a89e7224aa90",
   "metadata": {},
   "outputs": [],
   "source": [
    "import yaml\n",
    "\n",
    "with open('nlu_greeting.yml', 'r') as file:\n",
    "    prime_service = yaml.safe_load(file)\n",
    "text = []\n",
    "for i in prime_service['responses'].keys():\n",
    "    for j in prime_service['responses'][i]:\n",
    "        text.append({'intent': i, 'answer': j['text']})\n",
    "df_nlu = pd.DataFrame(prime_service['nlu'])\n",
    "df_response = pd.DataFrame(text)\n",
    "df_response['intent'] = df_response['intent'].apply(lambda x: x.replace('utter_',''))\n",
    "\n",
    "df_total = df_nlu.merge(df_response, on='intent', how='left')\n",
    "print(df_total)\n",
    "\n",
    "df_total.columns = ['idx','question','answer']\n",
    "df_total.to_csv('greeting_model.csv')\n",
    "\n",
    "df_total['messages'] = df_total.apply(lambda x:  [{'role': 'system','content':'greeting'},{'role': 'user', 'content' : x['question']}, {'role':'assistant', 'content':x['answer']}], axis = 1)\n",
    "# print(df_1_final)\n",
    "df_total = df_total[['messages']]\n",
    "df_total.to_json('greeting_model.jsonl',orient='records',lines=True)"
   ]
  },
  {
   "cell_type": "code",
   "execution_count": null,
   "id": "11576fbf-4e68-4036-8949-76eb165add67",
   "metadata": {},
   "outputs": [],
   "source": [
    "%env OPENAI_API_KEY=<YOUR API KEY>"
   ]
  },
  {
   "cell_type": "code",
   "execution_count": null,
   "id": "d95402df-d694-41a9-ac98-0b47e3d64366",
   "metadata": {},
   "outputs": [],
   "source": [
    "from train_gpt_utilities import TrainGPT\n",
    "trainer = TrainGPT()\n",
    "\n",
    "\n",
    "trainer.create_file(\"greeting_model.jsonl\")\n",
    "trainer.start_training()\n",
    "\n",
    "trainer.create_file(\"cons_trans_model.jsonl\")\n",
    "trainer.start_training()\n",
    "\n",
    "trainer.create_file(\"eco_trad_model.jsonl\")\n",
    "trainer.start_training()\n",
    "\n",
    "trainer.create_file(\"res_env_model.jsonl\")\n",
    "trainer.start_training()\n"
   ]
  },
  {
   "cell_type": "code",
   "execution_count": null,
   "id": "42813969-5168-4e71-91cf-9227fbd4add0",
   "metadata": {},
   "outputs": [],
   "source": [
    "jobs = trainer.list_jobs()"
   ]
  }
 ],
 "metadata": {
  "kernelspec": {
   "display_name": "chatgpt_env",
   "language": "python",
   "name": "chatgpt_env"
  },
  "language_info": {
   "codemirror_mode": {
    "name": "ipython",
    "version": 3
   },
   "file_extension": ".py",
   "mimetype": "text/x-python",
   "name": "python",
   "nbconvert_exporter": "python",
   "pygments_lexer": "ipython3",
   "version": "3.10.13"
  }
 },
 "nbformat": 4,
 "nbformat_minor": 5
}
